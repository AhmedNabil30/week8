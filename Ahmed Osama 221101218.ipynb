{
  "nbformat": 4,
  "nbformat_minor": 0,
  "metadata": {
    "colab": {
      "provenance": []
    },
    "kernelspec": {
      "name": "python3",
      "display_name": "Python 3"
    },
    "language_info": {
      "name": "python"
    }
  },
  "cells": [
    {
      "cell_type": "code",
      "execution_count": 1,
      "metadata": {
        "id": "xNhxppt01ZG5"
      },
      "outputs": [],
      "source": [
        "def time_complexity_ubcf(n, m, k):\n",
        "\n",
        "    # Time for calculating similarities: O(n^2 * m)\n",
        "    similarity_time = n ** 2 * m\n",
        "\n",
        "    # Time for generating predictions: O(n * k * m)\n",
        "    prediction_time = n * k * m\n",
        "\n",
        "    total_time = similarity_time + prediction_time\n",
        "    return total_time\n"
      ]
    },
    {
      "cell_type": "code",
      "source": [
        "def time_complexity_ibcf(n, m, k):\n",
        "\n",
        "    # Time for calculating similarities: O(m^2 * n)\n",
        "    similarity_time = m ** 2 * n\n",
        "\n",
        "    # Time for generating predictions: O(n * k * m)\n",
        "    prediction_time = n * k * m\n",
        "\n",
        "    total_time = similarity_time + prediction_time\n",
        "    return total_time\n"
      ],
      "metadata": {
        "id": "vnNMOWsm10Zb"
      },
      "execution_count": 2,
      "outputs": []
    },
    {
      "cell_type": "code",
      "source": [
        "def space_complexity_ubcf(n, m):\n",
        "\n",
        "    # Space for user-item matrix: O(n * m)\n",
        "    user_item_space = n * m\n",
        "\n",
        "    # Space for similarity matrix: O(n^2)\n",
        "    similarity_space = n ** 2\n",
        "\n",
        "    total_space = user_item_space + similarity_space\n",
        "    return total_space\n"
      ],
      "metadata": {
        "id": "kJvKHB-c17sA"
      },
      "execution_count": 3,
      "outputs": []
    },
    {
      "cell_type": "code",
      "source": [
        "def space_complexity_ibcf(n, m):\n",
        "\n",
        "    # Space for user-item matrix: O(n * m)\n",
        "    user_item_space = n * m\n",
        "\n",
        "    # Space for similarity matrix: O(m^2)\n",
        "    similarity_space = m ** 2\n",
        "\n",
        "    total_space = user_item_space + similarity_space\n",
        "    return total_space\n"
      ],
      "metadata": {
        "id": "o96uu9CP2Aco"
      },
      "execution_count": 4,
      "outputs": []
    },
    {
      "cell_type": "code",
      "source": [
        "def calculate_sparsity(user_item_matrix):\n",
        "\n",
        "    # Total number of entries (n * m)\n",
        "    total_entries = user_item_matrix.size\n",
        "\n",
        "    # Count the number of non-zero entries in the matrix\n",
        "    non_zero_entries = np.count_nonzero(user_item_matrix)\n",
        "\n",
        "    # Calculate sparsity\n",
        "    sparsity = 1 - (non_zero_entries / total_entries)\n",
        "\n",
        "    return sparsity\n"
      ],
      "metadata": {
        "id": "Sj6TXS0s2nIU"
      },
      "execution_count": 7,
      "outputs": []
    },
    {
      "cell_type": "code",
      "source": [
        "# Example user-item matrix (rows: users, columns: items)\n",
        "import numpy as np\n",
        "user_item_matrix = np.array([\n",
        "    [5, 0, 0, 1],\n",
        "    [4, 0, 0, 1],\n",
        "    [1, 1, 0, 5],\n",
        "    [0, 1, 5, 4],\n",
        "    [0, 0, 5, 4]\n",
        "])\n",
        "\n",
        "n_users, n_items = user_item_matrix.shape\n",
        "k_neighbors = 2  # Number of nearest neighbors to consider for predictions\n",
        "\n",
        "# Calculate Sparsity\n",
        "sparsity = calculate_sparsity(user_item_matrix)\n",
        "print(f\"Sparsity of the user-item matrix: {sparsity:.2f}\")\n",
        "\n",
        "# Calculate Time Complexity for User-Based Collaborative Filtering (UBCF)\n",
        "ubcf_time = time_complexity_ubcf(n_users, n_items, k_neighbors)\n",
        "print(f\"User-Based CF Time Complexity: {ubcf_time} operations\")\n",
        "\n",
        "# Calculate Time Complexity for Item-Based Collaborative Filtering (IBCF)\n",
        "ibcf_time = time_complexity_ibcf(n_users, n_items, k_neighbors)\n",
        "print(f\"Item-Based CF Time Complexity: {ibcf_time} operations\")\n",
        "\n",
        "# Calculate Space Complexity for User-Based Collaborative Filtering (UBCF)\n",
        "ubcf_space = space_complexity_ubcf(n_users, n_items)\n",
        "print(f\"User-Based CF Space Complexity: {ubcf_space} units of memory\")\n",
        "\n",
        "# Calculate Space Complexity for Item-Based Collaborative Filtering (IBCF)\n",
        "ibcf_space = space_complexity_ibcf(n_users, n_items)\n",
        "print(f\"Item-Based CF Space Complexity: {ibcf_space} units of memory\")\n"
      ],
      "metadata": {
        "colab": {
          "base_uri": "https://localhost:8080/"
        },
        "id": "BFSh9ZLu2vVM",
        "outputId": "425d65f7-9b0d-4b84-fc23-40b9601e3c28"
      },
      "execution_count": 8,
      "outputs": [
        {
          "output_type": "stream",
          "name": "stdout",
          "text": [
            "Sparsity of the user-item matrix: 0.40\n",
            "User-Based CF Time Complexity: 140 operations\n",
            "Item-Based CF Time Complexity: 120 operations\n",
            "User-Based CF Space Complexity: 45 units of memory\n",
            "Item-Based CF Space Complexity: 36 units of memory\n"
          ]
        }
      ]
    }
  ]
}