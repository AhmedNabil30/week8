{
  "nbformat": 4,
  "nbformat_minor": 0,
  "metadata": {
    "colab": {
      "provenance": []
    },
    "kernelspec": {
      "name": "python3",
      "display_name": "Python 3"
    },
    "language_info": {
      "name": "python"
    }
  },
  "cells": [
    {
      "cell_type": "code",
      "execution_count": 2,
      "metadata": {
        "colab": {
          "base_uri": "https://localhost:8080/"
        },
        "id": "PX4QWGBVM2A5",
        "outputId": "533ebc7c-d392-4f02-b472-a9bb5eedc2fa"
      },
      "outputs": [
        {
          "output_type": "stream",
          "name": "stdout",
          "text": [
            "User-Item DataFrame:\n",
            "       ItemA  ItemB  ItemC  ItemD  ItemE\n",
            "User1      3      5      0      2      4\n",
            "User2      2      0      3      5      1\n",
            "User3      1      3      4      0      2\n",
            "User4      0      2      5      3      4\n",
            "User5      5      3      2      4      0\n",
            "\n",
            "User Similarity Matrix:\n",
            "          User1     User2     User3     User4     User5\n",
            "User1  1.000000  0.435814  0.645975  0.592593  0.703704\n",
            "User2  0.435814  1.000000  0.467764  0.740883  0.784465\n",
            "User3  0.645975  0.467764  1.000000  0.844737  0.546594\n",
            "User4  0.592593  0.740883  0.844737  1.000000  0.518519\n",
            "User5  0.703704  0.784465  0.546594  0.518519  1.000000\n",
            "\n",
            "Time to compute user similarity: 0.001129 seconds\n",
            "Time Complexity for user-based similarity: O(5^2 * 5)\n",
            "Space Complexity for user-based similarity: O(5^2)\n",
            "\n",
            "Item Similarity Matrix:\n",
            "          ItemA     ItemB     ItemC     ItemD     ItemE\n",
            "ItemA  1.000000  0.770784  0.435814  0.784465  0.421199\n",
            "ItemB  0.770784  1.000000  0.555792  0.555792  0.815322\n",
            "ItemC  0.435814  0.555792  1.000000  0.703704  0.693528\n",
            "ItemD  0.784465  0.555792  0.703704  1.000000  0.559297\n",
            "ItemE  0.421199  0.815322  0.693528  0.559297  1.000000\n",
            "\n",
            "Time to compute item similarity: 0.001373 seconds\n",
            "Time Complexity for item-based similarity: O(5^2 * 5)\n",
            "Space Complexity for item-based similarity: O(5^2)\n"
          ]
        }
      ],
      "source": [
        "import numpy as np\n",
        "import pandas as pd\n",
        "from sklearn.metrics.pairwise import cosine_similarity\n",
        "import time\n",
        "\n",
        "# Step 1: Create a User-Item DataFrame with different data\n",
        "data = {\n",
        "    'User1': [3, 5, 0, 2, 4],\n",
        "    'User2': [2, 0, 3, 5, 1],\n",
        "    'User3': [1, 3, 4, 0, 2],\n",
        "    'User4': [0, 2, 5, 3, 4],\n",
        "    'User5': [5, 3, 2, 4, 0]\n",
        "}\n",
        "user_item_df = pd.DataFrame(data, index=['ItemA', 'ItemB', 'ItemC', 'ItemD', 'ItemE']).T\n",
        "print(\"User-Item DataFrame:\")\n",
        "print(user_item_df)\n",
        "\n",
        "# Step 2: Compute User Similarity\n",
        "start_time = time.time()\n",
        "user_similarity = cosine_similarity(user_item_df)\n",
        "user_similarity_df = pd.DataFrame(user_similarity, index=user_item_df.index, columns=user_item_df.index)\n",
        "user_similarity_time = time.time() - start_time\n",
        "\n",
        "print(\"\\nUser Similarity Matrix:\")\n",
        "print(user_similarity_df)\n",
        "\n",
        "# Time Complexity for User-based Similarity\n",
        "num_users = user_item_df.shape[0]\n",
        "num_items = user_item_df.shape[1]\n",
        "print(f\"\\nTime to compute user similarity: {user_similarity_time:.6f} seconds\")\n",
        "print(f\"Time Complexity for user-based similarity: O({num_users}^2 * {num_items})\")\n",
        "print(f\"Space Complexity for user-based similarity: O({num_users}^2)\")\n",
        "\n",
        "# Step 3: Compute Item Similarity\n",
        "start_time = time.time()\n",
        "item_similarity = cosine_similarity(user_item_df.T)\n",
        "item_similarity_df = pd.DataFrame(item_similarity, index=user_item_df.columns, columns=user_item_df.columns)\n",
        "item_similarity_time = time.time() - start_time\n",
        "\n",
        "print(\"\\nItem Similarity Matrix:\")\n",
        "print(item_similarity_df)\n",
        "\n",
        "# Time Complexity for Item-based Similarity\n",
        "print(f\"\\nTime to compute item similarity: {item_similarity_time:.6f} seconds\")\n",
        "print(f\"Time Complexity for item-based similarity: O({num_items}^2 * {num_users})\")\n",
        "print(f\"Space Complexity for item-based similarity: O({num_items}^2)\")\n"
      ]
    },
    {
      "cell_type": "code",
      "source": [],
      "metadata": {
        "id": "kw0lGqZWSRlL"
      },
      "execution_count": null,
      "outputs": []
    }
  ]
}