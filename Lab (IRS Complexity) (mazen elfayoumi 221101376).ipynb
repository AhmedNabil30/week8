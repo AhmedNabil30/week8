{
 "cells": [
  {
   "cell_type": "markdown",
   "id": "f1185498",
   "metadata": {},
   "source": [
    "# time complexity functions"
   ]
  },
  {
   "cell_type": "markdown",
   "id": "0da803f7",
   "metadata": {},
   "source": [
    "user based"
   ]
  },
  {
   "cell_type": "code",
   "execution_count": 1,
   "id": "f3d959f4",
   "metadata": {},
   "outputs": [],
   "source": [
    "def calculate_time_complexity_user_based(matrix_rows, matrix_columns, neighbors):\n",
    "    similarity_time = matrix_rows ** 2 * matrix_columns\n",
    "    prediction_time = matrix_rows * neighbors * matrix_columns\n",
    "    total_time = similarity_time + prediction_time\n",
    "    return total_time"
   ]
  },
  {
   "cell_type": "markdown",
   "id": "da9715a0",
   "metadata": {},
   "source": [
    "Item based"
   ]
  },
  {
   "cell_type": "code",
   "execution_count": 2,
   "id": "36be8694",
   "metadata": {},
   "outputs": [],
   "source": [
    "def calculate_time_complexity_item_based(matrix_rows, matrix_columns, neighbors):\n",
    "    similarity_time = matrix_columns ** 2 * matrix_rows\n",
    "    prediction_time = matrix_rows * neighbors * matrix_columns\n",
    "    total_time = similarity_time + prediction_time\n",
    "    return total_time"
   ]
  },
  {
   "cell_type": "markdown",
   "id": "ad6188cc",
   "metadata": {},
   "source": [
    "# Space Complexity"
   ]
  },
  {
   "cell_type": "markdown",
   "id": "332e677e",
   "metadata": {},
   "source": [
    "User Based"
   ]
  },
  {
   "cell_type": "code",
   "execution_count": 3,
   "id": "56b1b94b",
   "metadata": {},
   "outputs": [],
   "source": [
    "def calculate_space_complexity_user_based(matrix_rows, matrix_columns):\n",
    "    matrix_space = matrix_rows * matrix_columns\n",
    "    similarity_space = matrix_rows ** 2\n",
    "    total_space = matrix_space + similarity_space\n",
    "    return total_space"
   ]
  },
  {
   "cell_type": "markdown",
   "id": "b12d2e90",
   "metadata": {},
   "source": [
    "Item Based"
   ]
  },
  {
   "cell_type": "code",
   "execution_count": 4,
   "id": "96d1cd98",
   "metadata": {},
   "outputs": [],
   "source": [
    "def calculate_space_complexity_item_based(matrix_rows, matrix_columns):\n",
    "    matrix_space = matrix_rows * matrix_columns\n",
    "    similarity_space = matrix_columns ** 2\n",
    "    total_space = matrix_space + similarity_space\n",
    "    return total_space"
   ]
  },
  {
   "cell_type": "markdown",
   "id": "d60b7628",
   "metadata": {},
   "source": [
    "# Space Complexity based on matrix Structure "
   ]
  },
  {
   "cell_type": "markdown",
   "id": "4a16cd93",
   "metadata": {},
   "source": [
    "User Based"
   ]
  },
  {
   "cell_type": "code",
   "execution_count": 5,
   "id": "62efd5fb",
   "metadata": {},
   "outputs": [],
   "source": [
    "def calculate_space_complexity_user_based(matrix_rows, matrix_columns):\n",
    "    matrix_space = matrix_rows * matrix_columns\n",
    "    similarity_space = matrix_rows ** 2\n",
    "    total_space = matrix_space + similarity_space\n",
    "    return total_space"
   ]
  },
  {
   "cell_type": "markdown",
   "id": "98a983d3",
   "metadata": {},
   "source": [
    "Item Based"
   ]
  },
  {
   "cell_type": "code",
   "execution_count": 6,
   "id": "3047dbb9",
   "metadata": {},
   "outputs": [],
   "source": [
    "def calculate_space_complexity_item_based(matrix_rows, matrix_columns):\n",
    "    matrix_space = matrix_rows * matrix_columns\n",
    "    similarity_space = matrix_columns ** 2\n",
    "    total_space = matrix_space + similarity_space\n",
    "    return total_space"
   ]
  },
  {
   "cell_type": "markdown",
   "id": "d708ba06",
   "metadata": {},
   "source": [
    "# Sparsity function"
   ]
  },
  {
   "cell_type": "code",
   "execution_count": 7,
   "id": "86cf741f",
   "metadata": {},
   "outputs": [],
   "source": [
    "def calculate_sparsity(matrix):\n",
    "    total_entries = matrix.size\n",
    "    non_zero_entries = np.count_nonzero(matrix)\n",
    "    sparsity = 1 - (non_zero_entries / total_entries)\n",
    "    return sparsity\n"
   ]
  },
  {
   "cell_type": "markdown",
   "id": "c32c4872",
   "metadata": {},
   "source": [
    "# Matrix  "
   ]
  },
  {
   "cell_type": "code",
   "execution_count": 8,
   "id": "54c7ab05",
   "metadata": {},
   "outputs": [],
   "source": [
    "import numpy as np\n",
    "sample_matrix = np.array([\n",
    "    [8, 2, 0, 1],\n",
    "    [4, 0, 0, 4],\n",
    "    [1, 4, 0, 0],\n",
    "    [0, 1, 5, 4],\n",
    "    [2, 0, 6, 8]\n",
    "])\n",
    "\n",
    "matrix_rows, matrix_columns = sample_matrix.shape\n",
    "neighbors = 2  "
   ]
  },
  {
   "cell_type": "markdown",
   "id": "06772211",
   "metadata": {},
   "source": [
    "# Calculations"
   ]
  },
  {
   "cell_type": "code",
   "execution_count": 9,
   "id": "dcb77a50",
   "metadata": {},
   "outputs": [
    {
     "name": "stdout",
     "output_type": "stream",
     "text": [
      "Sparsity of the matrix: 0.35\n",
      "User-Based Time Complexity: 140 operations\n",
      "Item-Based Time Complexity: 120 operations\n",
      "User-Based Space Complexity: 45 units of memory\n",
      "Item-Based Space Complexity: 36 units of memory\n"
     ]
    }
   ],
   "source": [
    "sparsity_value = calculate_sparsity(sample_matrix)\n",
    "print(f\"Sparsity of the matrix: {sparsity_value:.2f}\")\n",
    "\n",
    "user_based_time = calculate_time_complexity_user_based(matrix_rows, matrix_columns, neighbors)\n",
    "print(f\"User-Based Time Complexity: {user_based_time} operations\")\n",
    "\n",
    "item_based_time = calculate_time_complexity_item_based(matrix_rows, matrix_columns, neighbors)\n",
    "print(f\"Item-Based Time Complexity: {item_based_time} operations\")\n",
    "\n",
    "user_based_space = calculate_space_complexity_user_based(matrix_rows, matrix_columns)\n",
    "print(f\"User-Based Space Complexity: {user_based_space} units of memory\")\n",
    "\n",
    "item_based_space = calculate_space_complexity_item_based(matrix_rows, matrix_columns)\n",
    "print(f\"Item-Based Space Complexity: {item_based_space} units of memory\")"
   ]
  }
 ],
 "metadata": {
  "kernelspec": {
   "display_name": "Python 3 (ipykernel)",
   "language": "python",
   "name": "python3"
  },
  "language_info": {
   "codemirror_mode": {
    "name": "ipython",
    "version": 3
   },
   "file_extension": ".py",
   "mimetype": "text/x-python",
   "name": "python",
   "nbconvert_exporter": "python",
   "pygments_lexer": "ipython3",
   "version": "3.11.5"
  }
 },
 "nbformat": 4,
 "nbformat_minor": 5
}
