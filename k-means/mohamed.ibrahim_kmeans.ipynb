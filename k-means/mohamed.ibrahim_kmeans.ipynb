{
 "cells": [
  {
   "cell_type": "code",
   "execution_count": 2,
   "id": "2712302e",
   "metadata": {},
   "outputs": [
    {
     "name": "stdout",
     "output_type": "stream",
     "text": [
      "   Feature1  Feature2  Cluster\n",
      "0        10        30        0\n",
      "1        15        25        0\n",
      "2        20        20        0\n",
      "3        25        15        1\n",
      "4        30        10        2\n",
      "Centroids:\n",
      "[[15. 25.]\n",
      " [25. 15.]\n",
      " [30. 10.]]\n"
     ]
    }
   ],
   "source": [
    "import pandas as pd\n",
    "import numpy as np\n",
    "\n",
    "# Sample data\n",
    "data = {\n",
    "    'Feature1': [10, 15, 20, 25, 30],\n",
    "    'Feature2': [30, 25, 20, 15, 10]\n",
    "}\n",
    "\n",
    "# Creating DataFrame\n",
    "df = pd.DataFrame(data)\n",
    "X = df.to_numpy()\n",
    "\n",
    "# Number of clusters\n",
    "k = 3\n",
    "\n",
    "# Initialize centroids: randomly select k data points as initial centroids\n",
    "initial_centroids = X[np.random.choice(X.shape[0], k, replace=False)]\n",
    "\n",
    "def compute_distances(X, centroids):\n",
    "    distances = np.zeros((X.shape[0], centroids.shape[0]))\n",
    "    for i in range(X.shape[0]):\n",
    "        for j in range(centroids.shape[0]):\n",
    "            distances[i, j] = np.linalg.norm(X[i] - centroids[j])\n",
    "    return distances\n",
    "\n",
    "def assign_clusters(distances):\n",
    "    return np.argmin(distances, axis=1)\n",
    "\n",
    "def update_centroids(X, labels, k):\n",
    "    centroids = np.zeros((k, X.shape[1]))\n",
    "    for i in range(k):\n",
    "        centroids[i, :] = X[labels == i].mean(axis=0)\n",
    "    return centroids\n",
    "\n",
    "def kmeans(X, k, max_iters=100):\n",
    "    centroids = initial_centroids\n",
    "    for _ in range(max_iters):\n",
    "        old_centroids = centroids\n",
    "        distances = compute_distances(X, centroids)\n",
    "        labels = assign_clusters(distances)\n",
    "        centroids = update_centroids(X, labels, k)\n",
    "        # Check for convergence\n",
    "        if np.all(centroids == old_centroids):\n",
    "            break\n",
    "    return labels, centroids\n",
    "\n",
    "labels, centroids = kmeans(X, k)\n",
    "\n",
    "# Adding cluster labels to DataFrame\n",
    "df['Cluster'] = labels\n",
    "\n",
    "print(df)\n",
    "print(\"Centroids:\")\n",
    "print(centroids)\n"
   ]
  },
  {
   "cell_type": "code",
   "execution_count": null,
   "id": "ddfa4d7d",
   "metadata": {},
   "outputs": [],
   "source": []
  }
 ],
 "metadata": {
  "kernelspec": {
   "display_name": "Python 3 (ipykernel)",
   "language": "python",
   "name": "python3"
  },
  "language_info": {
   "codemirror_mode": {
    "name": "ipython",
    "version": 3
   },
   "file_extension": ".py",
   "mimetype": "text/x-python",
   "name": "python",
   "nbconvert_exporter": "python",
   "pygments_lexer": "ipython3",
   "version": "3.9.12"
  }
 },
 "nbformat": 4,
 "nbformat_minor": 5
}
