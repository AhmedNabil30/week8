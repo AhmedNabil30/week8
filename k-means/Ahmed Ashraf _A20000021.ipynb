{
 "cells": [
  {
   "cell_type": "code",
   "execution_count": 1,
   "id": "522bb8c7",
   "metadata": {},
   "outputs": [],
   "source": [
    "import numpy as np\n",
    "import pandas as pd"
   ]
  },
  {
   "cell_type": "code",
   "execution_count": 10,
   "id": "92cf2212",
   "metadata": {},
   "outputs": [],
   "source": [
    "data=np.array([\n",
    "    [1,1],\n",
    "    [1.5,2],\n",
    "    [3,4],\n",
    "    [5,7],\n",
    "    [3.5,5],\n",
    "    [4.5,5],\n",
    "    [3.5,4.5]\n",
    "])"
   ]
  },
  {
   "cell_type": "code",
   "execution_count": 11,
   "id": "5c785321",
   "metadata": {},
   "outputs": [
    {
     "data": {
      "text/plain": [
       "array([[1. , 1. ],\n",
       "       [1.5, 2. ],\n",
       "       [3. , 4. ],\n",
       "       [5. , 7. ],\n",
       "       [3.5, 5. ],\n",
       "       [4.5, 5. ],\n",
       "       [3.5, 4.5]])"
      ]
     },
     "execution_count": 11,
     "metadata": {},
     "output_type": "execute_result"
    }
   ],
   "source": [
    "data"
   ]
  },
  {
   "cell_type": "code",
   "execution_count": 40,
   "id": "6353e3a4",
   "metadata": {},
   "outputs": [],
   "source": [
    "def kmeans(data, k=2):\n",
    "    max_iters=100\n",
    "    centeroids= data[np.random.choice(data.shape[0],k, replace=False)]\n",
    "    for _ in range(max_iters):\n",
    "        distance = np.sqrt(((data-centroids[: , np.newaxis])**2).sum)\n",
    "        labels=np.argmin(distances, axis=0)\n",
    "        new_centroids=np.array([data[labels==i].mean(axis=0)\n",
    "                               for i in range(k)])\n",
    "        \n",
    "        if np.all(centroids==new_centroids):\n",
    "            break\n",
    "        centroids=new_centroids\n",
    "        return lables, centroids"
   ]
  }
 ],
 "metadata": {
  "kernelspec": {
   "display_name": "Python 3 (ipykernel)",
   "language": "python",
   "name": "python3"
  },
  "language_info": {
   "codemirror_mode": {
    "name": "ipython",
    "version": 3
   },
   "file_extension": ".py",
   "mimetype": "text/x-python",
   "name": "python",
   "nbconvert_exporter": "python",
   "pygments_lexer": "ipython3",
   "version": "3.9.12"
  }
 },
 "nbformat": 4,
 "nbformat_minor": 5
}
