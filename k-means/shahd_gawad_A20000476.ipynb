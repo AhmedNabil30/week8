{
  "nbformat": 4,
  "nbformat_minor": 0,
  "metadata": {
    "colab": {
      "provenance": []
    },
    "kernelspec": {
      "name": "python3",
      "display_name": "Python 3"
    },
    "language_info": {
      "name": "python"
    }
  },
  "cells": [
    {
      "cell_type": "code",
      "source": [
        "import numpy as np\n",
        "data = np.array([\n",
        "    [1.0, 1.0],\n",
        "    [1.5, 2.0],\n",
        "    [3.0, 4.0],\n",
        "    [5.0, 7.0],\n",
        "    [3.5, 5.0],\n",
        "    [4.5, 5.0],\n",
        "    [3.5, 4.5]\n",
        "])\n",
        "\n",
        "k = 2\n",
        "max_iterations = 100\n",
        "np.random.seed(42)\n",
        "centroids = data[np.random.choice(data.shape[0], k, replace=False)]\n",
        "\n",
        "\n",
        "def euclidean_distance(point1, point2):\n",
        "    return np.sqrt(np.sum((point1 - point2) ** 2))\n",
        "\n",
        "\n",
        "for iteration in range(max_iterations):\n",
        "\n",
        "    clusters = [[] for _ in range(k)]\n",
        "    for point in data:\n",
        "        distances = [euclidean_distance(point, centroid) for centroid in centroids]\n",
        "        cluster_index = np.argmin(distances)\n",
        "        clusters[cluster_index].append(point)\n",
        "\n",
        "\n",
        "    new_centroids = []\n",
        "    for cluster in clusters:\n",
        "        if cluster:\n",
        "            new_centroid = np.mean(cluster, axis=0)\n",
        "        else:\n",
        "            new_centroid = data[np.random.choice(data.shape[0])]\n",
        "        new_centroids.append(new_centroid)\n",
        "\n",
        "    new_centroids = np.array(new_centroids)\n",
        "\n",
        "    if np.all(centroids == new_centroids):\n",
        "        print(f\"Converged after {iteration + 1} iterations\")\n",
        "        break\n",
        "\n",
        "    centroids = new_centroids\n",
        "\n",
        "\n",
        "print(\"Final centroids:\")\n",
        "print(centroids)\n",
        "\n",
        "for i, cluster in enumerate(clusters):\n",
        "    print(f\"\\nCluster {i + 1}:\")\n",
        "    print(np.array(cluster))"
      ],
      "metadata": {
        "colab": {
          "base_uri": "https://localhost:8080/"
        },
        "id": "i5jBHqrCRWnh",
        "outputId": "cb0070fa-58b2-4773-f04a-f60b052c1df2"
      },
      "execution_count": 3,
      "outputs": [
        {
          "output_type": "stream",
          "name": "stdout",
          "text": [
            "Converged after 3 iterations\n",
            "Final centroids:\n",
            "[[1.25 1.5 ]\n",
            " [3.9  5.1 ]]\n",
            "\n",
            "Cluster 1:\n",
            "[[1.  1. ]\n",
            " [1.5 2. ]]\n",
            "\n",
            "Cluster 2:\n",
            "[[3.  4. ]\n",
            " [5.  7. ]\n",
            " [3.5 5. ]\n",
            " [4.5 5. ]\n",
            " [3.5 4.5]]\n"
          ]
        }
      ]
    },
    {
      "cell_type": "code",
      "source": [],
      "metadata": {
        "id": "Yc1k3yJXZXHQ"
      },
      "execution_count": null,
      "outputs": []
    }
  ]
}