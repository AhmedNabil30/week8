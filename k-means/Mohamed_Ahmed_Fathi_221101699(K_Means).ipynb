{
  "nbformat": 4,
  "nbformat_minor": 0,
  "metadata": {
    "colab": {
      "provenance": []
    },
    "kernelspec": {
      "name": "python3",
      "display_name": "Python 3"
    },
    "language_info": {
      "name": "python"
    }
  },
  "cells": [
    {
      "cell_type": "code",
      "execution_count": 11,
      "metadata": {
        "id": "-_i7wd7pRvhM"
      },
      "outputs": [],
      "source": [
        "import numpy as np\n",
        "import pandas as pd"
      ]
    },
    {
      "cell_type": "code",
      "source": [
        "import numpy as np\n",
        "import pandas as pd\n",
        "\n",
        "def k_means_clustering(data, initial_centroids, max_iterations=100):\n",
        "\n",
        "    centroids = initial_centroids\n",
        "\n",
        "    for _ in range(max_iterations):\n",
        "        # Assign each point to the nearest centroid\n",
        "        distances = np.linalg.norm(data[:, np.newaxis] - centroids, axis=2)\n",
        "        labels = np.argmin(distances, axis=1)\n",
        "\n",
        "        # Calculate new centroids as the mean of assigned points\n",
        "        centroids = np.array([data[labels == cluster].mean(axis=0) for cluster in range(initial_centroids.shape[0])])\n",
        "\n",
        "    return centroids, labels\n",
        "\n",
        "\n",
        "# Main\n",
        "if __name__ == \"__main__\":\n",
        "    # Generate random positive real numbers for the dataset\n",
        "    np.random.seed(42)\n",
        "    data = np.random.uniform(1.0, 10.0, (10, 2))  # 10 points, 2 features\n",
        "    k = 3  # Number of clusters\n",
        "\n",
        "    # Convert data to DataFrame\n",
        "    df = pd.DataFrame(data, columns=[\"Feature_1\", \"Feature_2\"])\n",
        "    print(\"Original Data:\")\n",
        "    print(df)\n",
        "\n",
        "    # Randomly initialize centroids\n",
        "    initial_centroids = data[np.random.choice(data.shape[0], k, replace=False)]\n",
        "\n",
        "    print(\"\\nInitial Centroids:\")\n",
        "    print(initial_centroids)\n",
        "\n",
        "    # First iteration of K-means\n",
        "    centroids, labels = k_means_clustering(data, initial_centroids)\n",
        "    df[\"Cluster\"] = labels\n",
        "    print(\"\\nClustered Data after First Iteration:\")\n",
        "    print(df)\n",
        "    print(\"\\nUpdated Centroids after First Iteration:\")\n",
        "    print(centroids)\n",
        "\n",
        "    # Second iteration with updated centroids\n",
        "    centroids, labels = k_means_clustering(data, centroids)\n",
        "    df[\"Cluster\"] = labels\n",
        "    print(\"\\nClustered Data after Second Iteration:\")\n",
        "    print(df)\n",
        "    print(\"\\nUpdated Centroids after Second Iteration:\")\n",
        "    print(centroids)\n"
      ],
      "metadata": {
        "colab": {
          "base_uri": "https://localhost:8080/"
        },
        "id": "R13Jm7OITgr8",
        "outputId": "2153cde0-0815-45da-b158-664ec86e2dba"
      },
      "execution_count": 17,
      "outputs": [
        {
          "output_type": "stream",
          "name": "stdout",
          "text": [
            "Original Data:\n",
            "   Feature_1  Feature_2\n",
            "0   4.370861   9.556429\n",
            "1   7.587945   6.387926\n",
            "2   2.404168   2.403951\n",
            "3   1.522753   8.795585\n",
            "4   6.410035   7.372653\n",
            "5   1.185260   9.729189\n",
            "6   8.491984   2.911052\n",
            "7   2.636425   2.650641\n",
            "8   3.738180   5.722808\n",
            "9   4.887505   3.621062\n",
            "\n",
            "Initial Centroids:\n",
            "[[7.58794548 6.38792636]\n",
            " [1.18526045 9.72918867]\n",
            " [6.41003511 7.3726532 ]]\n",
            "\n",
            "Clustered Data after First Iteration:\n",
            "   Feature_1  Feature_2  Cluster\n",
            "0   4.370861   9.556429        1\n",
            "1   7.587945   6.387926        0\n",
            "2   2.404168   2.403951        2\n",
            "3   1.522753   8.795585        1\n",
            "4   6.410035   7.372653        0\n",
            "5   1.185260   9.729189        1\n",
            "6   8.491984   2.911052        0\n",
            "7   2.636425   2.650641        2\n",
            "8   3.738180   5.722808        2\n",
            "9   4.887505   3.621062        2\n",
            "\n",
            "Updated Centroids after First Iteration:\n",
            "[[7.49665478 5.55721052]\n",
            " [2.35962468 9.36040091]\n",
            " [3.41656946 3.59961535]]\n",
            "\n",
            "Clustered Data after Second Iteration:\n",
            "   Feature_1  Feature_2  Cluster\n",
            "0   4.370861   9.556429        1\n",
            "1   7.587945   6.387926        0\n",
            "2   2.404168   2.403951        2\n",
            "3   1.522753   8.795585        1\n",
            "4   6.410035   7.372653        0\n",
            "5   1.185260   9.729189        1\n",
            "6   8.491984   2.911052        0\n",
            "7   2.636425   2.650641        2\n",
            "8   3.738180   5.722808        2\n",
            "9   4.887505   3.621062        2\n",
            "\n",
            "Updated Centroids after Second Iteration:\n",
            "[[7.49665478 5.55721052]\n",
            " [2.35962468 9.36040091]\n",
            " [3.41656946 3.59961535]]\n"
          ]
        }
      ]
    },
    {
      "cell_type": "code",
      "source": [],
      "metadata": {
        "id": "jxhILR2KZMJh"
      },
      "execution_count": null,
      "outputs": []
    }
  ]
}