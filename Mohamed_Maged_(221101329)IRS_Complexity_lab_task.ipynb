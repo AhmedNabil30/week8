{
  "nbformat": 4,
  "nbformat_minor": 0,
  "metadata": {
    "colab": {
      "provenance": []
    },
    "kernelspec": {
      "name": "python3",
      "display_name": "Python 3"
    },
    "language_info": {
      "name": "python"
    }
  },
  "cells": [
    {
      "cell_type": "code",
      "execution_count": 2,
      "metadata": {
        "colab": {
          "base_uri": "https://localhost:8080/"
        },
        "id": "Ry9lfFaNxqO0",
        "outputId": "e5ea7730-690a-4038-92e8-9fdd0b37d8b5"
      },
      "outputs": [
        {
          "output_type": "stream",
          "name": "stdout",
          "text": [
            "Matrix Sparsity: 4.00%\n",
            "Space Complexity (Dense): O(25) elements\n",
            "Space Complexity (Sparse): O(72) elements\n",
            "User-Based Collaborative Filtering Complexity: O(5^2 * 5) = O(125)\n",
            "Time taken: 0.000149 seconds\n",
            "Item-Based Collaborative Filtering Complexity: O(5^2 * 5) = O(125)\n",
            "Time taken: 0.000113 seconds\n"
          ]
        }
      ],
      "source": [
        "import numpy as np\n",
        "from itertools import combinations\n",
        "import time\n",
        "\n",
        "ratings = np.array([\n",
        "    [5, 3, 4, 4, 0],\n",
        "    [3, 1, 2, 3, 3],\n",
        "    [4, 3, 4, 3, 5],\n",
        "    [3, 3, 1, 5, 4],\n",
        "    [1, 5, 5, 2, 1]\n",
        "])\n",
        "\n",
        "U, I = ratings.shape\n",
        "\n",
        "def calculate_sparsity_and_space(ratings):\n",
        "    total_elements = U * I\n",
        "    non_zero_elements = np.count_nonzero(ratings)\n",
        "    zero_elements = total_elements - non_zero_elements\n",
        "    sparsity = zero_elements / total_elements\n",
        "\n",
        "    dense_space = total_elements\n",
        "    sparse_space = non_zero_elements * 3\n",
        "\n",
        "    print(f\"Matrix Sparsity: {sparsity * 100:.2f}%\")\n",
        "    print(f\"Space Complexity (Dense): O({dense_space}) elements\")\n",
        "    print(f\"Space Complexity (Sparse): O({sparse_space}) elements\")\n",
        "\n",
        "def user_based_complexity(ratings):\n",
        "    start_time = time.time()\n",
        "\n",
        "    for user1, user2 in combinations(range(U), 2):\n",
        "        similarity = np.dot(ratings[user1], ratings[user2])\n",
        "\n",
        "    target_user = 0\n",
        "    predicted_ratings = []\n",
        "    for item in range(I):\n",
        "        if ratings[target_user][item] == 0:\n",
        "            predicted_rating = np.mean(ratings[:, item])\n",
        "            predicted_ratings.append(predicted_rating)\n",
        "\n",
        "    end_time = time.time()\n",
        "    elapsed_time = end_time - start_time\n",
        "    complexity = U ** 2 * I\n",
        "    print(f\"User-Based Collaborative Filtering Complexity: O({U}^2 * {I}) = O({complexity})\")\n",
        "    print(f\"Time taken: {elapsed_time:.6f} seconds\")\n",
        "\n",
        "def item_based_complexity(ratings):\n",
        "    start_time = time.time()\n",
        "\n",
        "    for item1, item2 in combinations(range(I), 2):\n",
        "        similarity = np.dot(ratings[:, item1], ratings[:, item2])\n",
        "\n",
        "    target_user = 0\n",
        "    predicted_ratings = []\n",
        "    for item in range(I):\n",
        "        if ratings[target_user][item] == 0:\n",
        "            predicted_rating = np.mean(ratings[target_user])\n",
        "            predicted_ratings.append(predicted_rating)\n",
        "\n",
        "    end_time = time.time()\n",
        "    elapsed_time = end_time - start_time\n",
        "    complexity = I ** 2 * U\n",
        "    print(f\"Item-Based Collaborative Filtering Complexity: O({I}^2 * {U}) = O({complexity})\")\n",
        "    print(f\"Time taken: {elapsed_time:.6f} seconds\")\n",
        "\n",
        "calculate_sparsity_and_space(ratings)\n",
        "user_based_complexity(ratings)\n",
        "item_based_complexity(ratings)\n"
      ]
    }
  ]
}