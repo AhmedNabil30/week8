{
  "nbformat": 4,
  "nbformat_minor": 0,
  "metadata": {
    "colab": {
      "provenance": []
    },
    "kernelspec": {
      "name": "python3",
      "display_name": "Python 3"
    },
    "language_info": {
      "name": "python"
    }
  },
  "cells": [
    {
      "cell_type": "code",
      "execution_count": 1,
      "metadata": {
        "colab": {
          "base_uri": "https://localhost:8080/"
        },
        "id": "YdRFNS9v5bmY",
        "outputId": "a349610a-319f-4c43-b010-7c9c8dc5d529"
      },
      "outputs": [
        {
          "output_type": "stream",
          "name": "stdout",
          "text": [
            "User-Item Interaction Data:\n",
            "        Item_1  Item_2  Item_3  Item_4  Item_5  Item_6\n",
            "User_1       4       5       3       5       5       2\n",
            "User_2       3       3       3       5       4       3\n",
            "User_3       5       2       4       2       4       5\n",
            "User_4       1       4       2       5       4       1\n",
            "User_5       1       3       3       2       4       4\n"
          ]
        }
      ],
      "source": [
        "import numpy as np\n",
        "import pandas as pd\n",
        "\n",
        "# Define number of users and items\n",
        "num_users = 5\n",
        "num_items = 6\n",
        "\n",
        "# Generate random data: user-item interaction (ratings or binary interactions)\n",
        "# Using random integers for ratings, can also use binary (0 or 1) for interaction\n",
        "np.random.seed(42)  # For reproducibility\n",
        "interaction_data = np.random.randint(1, 6, size=(num_users, num_items))  # Ratings between 1 and 5\n",
        "\n",
        "# Create DataFrame for better visualization\n",
        "interaction_df = pd.DataFrame(interaction_data, columns=[f\"Item_{i+1}\" for i in range(num_items)],\n",
        "                               index=[f\"User_{i+1}\" for i in range(num_users)])\n",
        "\n",
        "print(\"User-Item Interaction Data:\")\n",
        "print(interaction_df)\n"
      ]
    },
    {
      "cell_type": "code",
      "source": [
        "from sklearn.metrics.pairwise import cosine_similarity\n",
        "\n",
        "# Calculate user-user similarity matrix\n",
        "user_similarity = cosine_similarity(interaction_df)\n",
        "\n",
        "# Convert the similarity matrix to a DataFrame for better readability\n",
        "user_similarity_df = pd.DataFrame(user_similarity, columns=interaction_df.index, index=interaction_df.index)\n",
        "\n",
        "print(\"User-User Similarity Matrix:\")\n",
        "print(user_similarity_df)\n"
      ],
      "metadata": {
        "colab": {
          "base_uri": "https://localhost:8080/"
        },
        "id": "ifUbT3Sf5f81",
        "outputId": "371e0864-2153-45fa-8460-84508f04a4e4"
      },
      "execution_count": 2,
      "outputs": [
        {
          "output_type": "stream",
          "name": "stdout",
          "text": [
            "User-User Similarity Matrix:\n",
            "          User_1    User_2    User_3    User_4    User_5\n",
            "User_1  1.000000  0.972204  0.847571  0.951270  0.872662\n",
            "User_2  0.972204  1.000000  0.888925  0.933249  0.906620\n",
            "User_3  0.847571  0.888925  1.000000  0.690577  0.895443\n",
            "User_4  0.951270  0.933249  0.690577  1.000000  0.832424\n",
            "User_5  0.872662  0.906620  0.895443  0.832424  1.000000\n"
          ]
        }
      ]
    },
    {
      "cell_type": "code",
      "source": [
        "# Calculate item-item similarity matrix (transpose of the user-item matrix)\n",
        "item_similarity = cosine_similarity(interaction_df.T)\n",
        "\n",
        "# Convert the similarity matrix to a DataFrame for better readability\n",
        "item_similarity_df = pd.DataFrame(item_similarity, columns=interaction_df.columns, index=interaction_df.columns)\n",
        "\n",
        "print(\"Item-Item Similarity Matrix:\")\n",
        "print(item_similarity_df)\n"
      ],
      "metadata": {
        "colab": {
          "base_uri": "https://localhost:8080/"
        },
        "id": "iPP7TqeV5k99",
        "outputId": "04b0ada9-64d1-46a1-c22c-d59b33e00f9c"
      },
      "execution_count": 3,
      "outputs": [
        {
          "output_type": "stream",
          "name": "stdout",
          "text": [
            "Item-Item Similarity Matrix:\n",
            "          Item_1    Item_2    Item_3    Item_4    Item_5    Item_6\n",
            "Item_1  1.000000  0.803685  0.930480  0.791521  0.881972  0.878850\n",
            "Item_2  0.803685  1.000000  0.900486  0.968030  0.974894  0.764471\n",
            "Item_3  0.930480  0.900486  1.000000  0.864581  0.974084  0.963753\n",
            "Item_4  0.791521  0.968030  0.864581  1.000000  0.942434  0.710429\n",
            "Item_5  0.881972  0.974894  0.974084  0.942434  1.000000  0.886167\n",
            "Item_6  0.878850  0.764471  0.963753  0.710429  0.886167  1.000000\n"
          ]
        }
      ]
    },
    {
      "cell_type": "code",
      "source": [
        "import numpy as np\n",
        "from sklearn.metrics.pairwise import cosine_similarity\n",
        "import time\n",
        "\n",
        "# Function to calculate user-user similarity efficiently (O(m * n') time)\n",
        "def calculate_user_user_similarity(interaction_matrix, n_prime):\n",
        "    m = interaction_matrix.shape[0]  # number of users\n",
        "    n = interaction_matrix.shape[1]  # number of items\n",
        "\n",
        "    # Initialize similarity matrix with shape m x m (space complexity O(m²))\n",
        "    user_similarity_matrix = np.zeros((m, m))\n",
        "\n",
        "    # Iterate through each pair of users (O(m * m) pairs)\n",
        "    for i in range(m):\n",
        "        for j in range(i, m):  # We only calculate for upper triangle, symmetry\n",
        "            # Find common non-zero ratings between user i and user j\n",
        "            common_items = np.where((interaction_matrix[i, :] > 0) & (interaction_matrix[j, :] > 0))[0]\n",
        "            if len(common_items) >= n_prime:  # Check if the number of common ratings is at least n'\n",
        "                user_similarity_matrix[i, j] = cosine_similarity(\n",
        "                    interaction_matrix[i, common_items].reshape(1, -1),\n",
        "                    interaction_matrix[j, common_items].reshape(1, -1)\n",
        "                )[0][0]\n",
        "                user_similarity_matrix[j, i] = user_similarity_matrix[i, j]  # Symmetric similarity\n",
        "\n",
        "    return user_similarity_matrix\n",
        "\n",
        "\n",
        "# Function to calculate item-item similarity efficiently (O(n * m') time)\n",
        "def calculate_item_item_similarity(interaction_matrix, m_prime):\n",
        "    m = interaction_matrix.shape[0]  # number of users\n",
        "    n = interaction_matrix.shape[1]  # number of items\n",
        "\n",
        "    # Initialize similarity matrix with shape n x n (space complexity O(n²))\n",
        "    item_similarity_matrix = np.zeros((n, n))\n",
        "\n",
        "    # Iterate through each pair of items (O(n * n) pairs)\n",
        "    for i in range(n):\n",
        "        for j in range(i, n):  # We only calculate for upper triangle, symmetry\n",
        "            # Find common users who have rated both item i and item j\n",
        "            common_users = np.where((interaction_matrix[:, i] > 0) & (interaction_matrix[:, j] > 0))[0]\n",
        "            if len(common_users) >= m_prime:  # Check if the number of common users is at least m'\n",
        "                item_similarity_matrix[i, j] = cosine_similarity(\n",
        "                    interaction_matrix[common_users, i].reshape(1, -1).T,\n",
        "                    interaction_matrix[common_users, j].reshape(1, -1).T\n",
        "                )[0][0]\n",
        "                item_similarity_matrix[j, i] = item_similarity_matrix[i, j]  # Symmetric similarity\n",
        "\n",
        "    return item_similarity_matrix\n",
        "\n",
        "# Time and Space Complexity Calculation\n",
        "def calculate_time_and_space_complexity(interaction_matrix, n_prime, m_prime):\n",
        "    m, n = interaction_matrix.shape\n",
        "\n",
        "    # Calculate User-User Similarity\n",
        "    start_time = time.time()\n",
        "    user_similarity = calculate_user_user_similarity(interaction_matrix, n_prime)\n",
        "    user_similarity_time = time.time() - start_time\n",
        "    user_similarity_space = m * m  # Space for the user-user similarity matrix\n",
        "\n",
        "    # Calculate Item-Item Similarity\n",
        "    start_time = time.time()\n",
        "    item_similarity = calculate_item_item_similarity(interaction_matrix, m_prime)\n",
        "    item_similarity_time = time.time() - start_time\n",
        "    item_similarity_space = n * n  # Space for the item-item similarity matrix\n",
        "\n",
        "    # Calculate total space complexity (including interaction matrix)\n",
        "    total_space = m * n + user_similarity_space + item_similarity_space\n",
        "\n",
        "    return {\n",
        "        \"user_similarity_time\": user_similarity_time,\n",
        "        \"item_similarity_time\": item_similarity_time,\n",
        "        \"user_similarity_space\": user_similarity_space,\n",
        "        \"item_similarity_space\": item_similarity_space,\n",
        "        \"total_space\": total_space\n",
        "    }\n",
        "\n",
        "# Generate random interaction data (for testing)\n",
        "np.random.seed(42)\n",
        "m = 5  # number of users\n",
        "n = 6  # number of items\n",
        "interaction_data = np.random.randint(1, 6, size=(m, n))  # Random ratings between 1 and 5\n",
        "\n",
        "# Create the interaction matrix\n",
        "interaction_matrix = np.array(interaction_data)\n",
        "\n",
        "# Set thresholds for common ratings and common users/items\n",
        "n_prime = 3  # Minimum number of common ratings to compute similarity\n",
        "m_prime = 3  # Minimum number of common users to compute similarity\n",
        "\n",
        "# Calculate Time and Space Complexity\n",
        "complexity = calculate_time_and_space_complexity(interaction_matrix, n_prime, m_prime)\n",
        "\n",
        "print(\"Time and Space Complexity Metrics:\")\n",
        "print(f\"User-User Similarity Time: {complexity['user_similarity_time']} seconds\")\n",
        "print(f\"Item-Item Similarity Time: {complexity['item_similarity_time']} seconds\")\n",
        "print(f\"User-User Similarity Space: {complexity['user_similarity_space']} units\")\n",
        "print(f\"Item-Item Similarity Space: {complexity['item_similarity_space']} units\")\n",
        "print(f\"Total Space: {complexity['total_space']} units\")\n"
      ],
      "metadata": {
        "colab": {
          "base_uri": "https://localhost:8080/"
        },
        "id": "DhhPnmcJ7WLD",
        "outputId": "91e7233a-766e-4890-e9b1-cdc321d77c32"
      },
      "execution_count": 6,
      "outputs": [
        {
          "output_type": "stream",
          "name": "stdout",
          "text": [
            "Time and Space Complexity Metrics:\n",
            "User-User Similarity Time: 0.008985757827758789 seconds\n",
            "Item-Item Similarity Time: 0.011535167694091797 seconds\n",
            "User-User Similarity Space: 25 units\n",
            "Item-Item Similarity Space: 36 units\n",
            "Total Space: 91 units\n"
          ]
        }
      ]
    },
    {
      "cell_type": "code",
      "source": [
        "import numpy as np\n",
        "\n",
        "# Function to calculate sparsity of a matrix\n",
        "def calculate_sparsity(matrix):\n",
        "    # Total number of elements in the matrix\n",
        "    total_elements = matrix.size\n",
        "\n",
        "    # Number of zero entries in the matrix\n",
        "    zero_entries = np.count_nonzero(matrix == 0)\n",
        "\n",
        "    # Sparsity is the ratio of zero entries to total elements\n",
        "    sparsity = zero_entries / total_elements\n",
        "\n",
        "    return sparsity, zero_entries, total_elements\n",
        "\n",
        "# Example Usage\n",
        "np.random.seed(42)\n",
        "m = 5  # number of users\n",
        "n = 6  # number of items\n",
        "\n",
        "# Generate a random user-item interaction matrix with values between 0 and 5\n",
        "interaction_matrix = np.random.randint(0, 6, size=(m, n))\n",
        "\n",
        "# Simulate sparsity by setting some values to 0\n",
        "interaction_matrix[0, 1] = 0\n",
        "interaction_matrix[2, 3] = 0\n",
        "interaction_matrix[4, 5] = 0\n",
        "\n",
        "print(\"User-Item Interaction Matrix:\")\n",
        "print(interaction_matrix)\n",
        "\n",
        "# Calculate the sparsity of the interaction matrix\n",
        "sparsity, zero_entries, total_elements = calculate_sparsity(interaction_matrix)\n",
        "\n",
        "print(\"\\nSparsity Information:\")\n",
        "print(f\"Sparsity: {sparsity:.4f}\")\n",
        "print(f\"Zero Entries: {zero_entries}\")\n",
        "print(f\"Total Elements: {total_elements}\")\n"
      ],
      "metadata": {
        "colab": {
          "base_uri": "https://localhost:8080/"
        },
        "id": "U6_tVfq-9GSb",
        "outputId": "6665551c-3fbd-4fc4-94f6-c86578d6f79d"
      },
      "execution_count": 7,
      "outputs": [
        {
          "output_type": "stream",
          "name": "stdout",
          "text": [
            "User-Item Interaction Matrix:\n",
            "[[3 0 2 4 4 1]\n",
            " [2 2 2 4 3 2]\n",
            " [5 4 1 0 5 5]\n",
            " [1 3 4 0 3 1]\n",
            " [5 4 3 0 0 0]]\n",
            "\n",
            "Sparsity Information:\n",
            "Sparsity: 0.2000\n",
            "Zero Entries: 6\n",
            "Total Elements: 30\n"
          ]
        }
      ]
    }
  ]
}