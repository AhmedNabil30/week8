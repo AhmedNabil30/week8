{
  "nbformat": 4,
  "nbformat_minor": 0,
  "metadata": {
    "colab": {
      "provenance": []
    },
    "kernelspec": {
      "name": "python3",
      "display_name": "Python 3"
    },
    "language_info": {
      "name": "python"
    }
  },
  "cells": [
    {
      "cell_type": "code",
      "execution_count": 2,
      "metadata": {
        "id": "uOnrMVy_z7q1"
      },
      "outputs": [],
      "source": [
        "import numpy as np\n",
        "from scipy.spatial.distance import pdist, squareform\n",
        "import time\n",
        "import sys\n",
        "\n",
        "# Function to calculate time and space complexity\n",
        "def calculate_complexities(m, n):\n",
        "    # Time complexity (Offline)\n",
        "    time_complexity_user_based = m * (n**2)  # O(m * n^2)\n",
        "    time_complexity_item_based = (n**2) * m  # O(n^2 * m)\n",
        "\n",
        "    # Space complexity (Offline)\n",
        "    space_complexity_user_based = m**2  # O(m^2)\n",
        "    space_complexity_item_based = n**2  # O(n^2)\n",
        "\n",
        "    return time_complexity_user_based, time_complexity_item_based, space_complexity_user_based, space_complexity_item_based"
      ]
    },
    {
      "cell_type": "code",
      "source": [
        "\n",
        "# Generate a 5x5 random user-item rating matrix\n",
        "np.random.seed(42)  # For reproducibility\n",
        "user_item_matrix = np.random.randint(1, 6, (5, 5))\n",
        "\n",
        "# Print the user-item matrix\n",
        "print(\"User-Item Matrix:\")\n",
        "print(user_item_matrix)"
      ],
      "metadata": {
        "colab": {
          "base_uri": "https://localhost:8080/"
        },
        "id": "ofBLBdiZ4K2E",
        "outputId": "a711bae3-76b4-48dd-a51a-ee3a196f1fd0"
      },
      "execution_count": 3,
      "outputs": [
        {
          "output_type": "stream",
          "name": "stdout",
          "text": [
            "User-Item Matrix:\n",
            "[[4 5 3 5 5]\n",
            " [2 3 3 3 5]\n",
            " [4 3 5 2 4]\n",
            " [2 4 5 1 4]\n",
            " [2 5 4 1 1]]\n"
          ]
        }
      ]
    },
    {
      "cell_type": "code",
      "source": [
        "# Calculate cosine similarity\n",
        "start_time = time.time()\n",
        "cosine_similarities = 1 - squareform(pdist(user_item_matrix, metric='cosine'))\n",
        "time_taken = time.time() - start_time\n",
        "\n",
        "# Print the cosine similarity matrix\n",
        "print(\"\\nCosine Similarity Matrix:\")\n",
        "print(cosine_similarities)"
      ],
      "metadata": {
        "colab": {
          "base_uri": "https://localhost:8080/"
        },
        "id": "MvWrBV644N0S",
        "outputId": "2c89f9fa-d52c-4266-bd1d-d74176d8a389"
      },
      "execution_count": 4,
      "outputs": [
        {
          "output_type": "stream",
          "name": "stdout",
          "text": [
            "\n",
            "Cosine Similarity Matrix:\n",
            "[[1.         0.96214047 0.90837374 0.86360086 0.80225745]\n",
            " [0.96214047 1.         0.92637102 0.91643971 0.76018915]\n",
            " [0.90837374 0.92637102 1.         0.95630337 0.85427585]\n",
            " [0.86360086 0.91643971 0.95630337 1.         0.90771875]\n",
            " [0.80225745 0.76018915 0.85427585 0.90771875 1.        ]]\n"
          ]
        }
      ]
    },
    {
      "cell_type": "code",
      "source": [
        "# Space used in memory for cosine similarity\n",
        "space_used = sys.getsizeof(cosine_similarities)\n",
        "\n",
        "# Calculate complexities\n",
        "time_user, time_item, space_user, space_item = calculate_complexities(m=5, n=5)\n",
        "\n",
        "# Print time and space complexity results\n",
        "print(\"\\nTime and Space Complexity Results:\")\n",
        "print(f\"Time Taken for Cosine Similarity (seconds): {time_taken}\")\n",
        "print(f\"Space Used for Cosine Similarity (bytes): {space_used}\")\n",
        "print(f\"Time Complexity (User-Based): {time_user}\")\n",
        "print(f\"Time Complexity (Item-Based): {time_item}\")\n",
        "print(f\"Space Complexity (User-Based): {space_user}\")\n",
        "print(f\"Space Complexity (Item-Based): {space_item}\")"
      ],
      "metadata": {
        "colab": {
          "base_uri": "https://localhost:8080/"
        },
        "id": "kd2o_jX94SE7",
        "outputId": "7e6160cb-c89c-4ea6-de92-9d9b11445b56"
      },
      "execution_count": 5,
      "outputs": [
        {
          "output_type": "stream",
          "name": "stdout",
          "text": [
            "\n",
            "Time and Space Complexity Results:\n",
            "Time Taken for Cosine Similarity (seconds): 0.0014216899871826172\n",
            "Space Used for Cosine Similarity (bytes): 328\n",
            "Time Complexity (User-Based): 125\n",
            "Time Complexity (Item-Based): 125\n",
            "Space Complexity (User-Based): 25\n",
            "Space Complexity (Item-Based): 25\n"
          ]
        }
      ]
    },
    {
      "cell_type": "markdown",
      "source": [
        "# **Another Code:**"
      ],
      "metadata": {
        "id": "4gybGm5h47g4"
      }
    },
    {
      "cell_type": "code",
      "source": [
        "import numpy as np\n",
        "\n",
        "# Generate a 5x5 random user-item rating matrix\n",
        "np.random.seed(42)  # For reproducibility\n",
        "user_item_matrix = np.random.randint(1, 6, (5, 5))\n",
        "\n",
        "# Print the user-item matrix\n",
        "print(\"User-Item Matrix:\")\n",
        "print(user_item_matrix)"
      ],
      "metadata": {
        "colab": {
          "base_uri": "https://localhost:8080/"
        },
        "id": "VNIxiYSk4pBa",
        "outputId": "d8f36a2b-a303-46fe-c04a-c956bc67981b"
      },
      "execution_count": 6,
      "outputs": [
        {
          "output_type": "stream",
          "name": "stdout",
          "text": [
            "User-Item Matrix:\n",
            "[[4 5 3 5 5]\n",
            " [2 3 3 3 5]\n",
            " [4 3 5 2 4]\n",
            " [2 4 5 1 4]\n",
            " [2 5 4 1 1]]\n"
          ]
        }
      ]
    },
    {
      "cell_type": "code",
      "source": [
        "from scipy.spatial.distance import pdist, squareform\n",
        "import time\n",
        "\n",
        "# Function to calculate time complexity\n",
        "def calculate_time_complexity(m, n):\n",
        "    time_complexity_user_based = m * (n**2)  # O(m * n^2)\n",
        "    time_complexity_item_based = (n**2) * m  # O(n^2 * m)\n",
        "    return time_complexity_user_based, time_complexity_item_based\n",
        "\n",
        "# Print the time complexity equations for user-based and item-based methods\n",
        "m, n = user_item_matrix.shape\n",
        "time_user, time_item = calculate_time_complexity(m, n)\n",
        "\n",
        "print(\"\\nTime Complexity Results:\")\n",
        "print(f\"Time Complexity (User-Based): O({m} * {n}^2) = {time_user}\")\n",
        "print(f\"Time Complexity (Item-Based): O({n}^2 * {m}) = {time_item}\")\n",
        "\n",
        "# Calculate and measure execution time for cosine similarity (user-based)\n",
        "start_time_user = time.time()\n",
        "cosine_similarities_user = 1 - squareform(pdist(user_item_matrix, metric='cosine'))\n",
        "time_taken_user = time.time() - start_time_user\n",
        "\n",
        "print(\"\\nExecution Time for Cosine Similarity (User-Based):\")\n",
        "print(f\"{time_taken_user} seconds\")"
      ],
      "metadata": {
        "colab": {
          "base_uri": "https://localhost:8080/"
        },
        "id": "eAnPpTIS4qgj",
        "outputId": "eeffaaa4-d503-4566-80e3-f273c1233446"
      },
      "execution_count": 7,
      "outputs": [
        {
          "output_type": "stream",
          "name": "stdout",
          "text": [
            "\n",
            "Time Complexity Results:\n",
            "Time Complexity (User-Based): O(5 * 5^2) = 125\n",
            "Time Complexity (Item-Based): O(5^2 * 5) = 125\n",
            "\n",
            "Execution Time for Cosine Similarity (User-Based):\n",
            "0.0018377304077148438 seconds\n"
          ]
        }
      ]
    },
    {
      "cell_type": "code",
      "source": [
        "import sys\n",
        "\n",
        "# Function to calculate space complexity\n",
        "def calculate_space_complexity(m, n):\n",
        "    space_complexity_user_based = m**2  # O(m^2)\n",
        "    space_complexity_item_based = n**2  # O(n^2)\n",
        "    return space_complexity_user_based, space_complexity_item_based\n",
        "\n",
        "# Print the space complexity equations for user-based and item-based methods\n",
        "space_user, space_item = calculate_space_complexity(m, n)\n",
        "\n",
        "print(\"\\nSpace Complexity Results:\")\n",
        "print(f\"Space Complexity (User-Based): O({m}^2) = {space_user}\")\n",
        "print(f\"Space Complexity (Item-Based): O({n}^2) = {space_item}\")\n",
        "\n",
        "# Measure space used for the cosine similarity matrix (user-based)\n",
        "space_used_user = sys.getsizeof(cosine_similarities_user)\n",
        "\n",
        "print(\"\\nSpace Used for Cosine Similarity (User-Based):\")\n",
        "print(f\"{space_used_user} bytes\")"
      ],
      "metadata": {
        "colab": {
          "base_uri": "https://localhost:8080/"
        },
        "id": "8R_pSN8-4y-w",
        "outputId": "ff0029cb-1990-4ddf-d6b4-e3279ebb7ee1"
      },
      "execution_count": 10,
      "outputs": [
        {
          "output_type": "stream",
          "name": "stdout",
          "text": [
            "\n",
            "Space Complexity Results:\n",
            "Space Complexity (User-Based): O(5^2) = 25\n",
            "Space Complexity (Item-Based): O(5^2) = 25\n",
            "\n",
            "Space Used for Cosine Similarity (User-Based):\n",
            "328 bytes\n"
          ]
        }
      ]
    },
    {
      "cell_type": "code",
      "source": [
        "# Transpose the user-item matrix for item-based method\n",
        "item_item_matrix = user_item_matrix.T\n",
        "\n",
        "# Calculate and measure execution time for cosine similarity (item-based)\n",
        "start_time_item = time.time()\n",
        "cosine_similarities_item = 1 - squareform(pdist(item_item_matrix, metric='cosine'))\n",
        "time_taken_item = time.time() - start_time_item\n",
        "\n",
        "print(\"\\nExecution Time for Cosine Similarity (Item-Based):\")\n",
        "print(f\"{time_taken_item} seconds\")\n",
        "\n",
        "# Measure space used for the cosine similarity matrix (item-based)\n",
        "space_used_item = sys.getsizeof(cosine_similarities_item)\n",
        "\n",
        "print(\"\\nSpace Used for Cosine Similarity (Item-Based):\")\n",
        "print(f\"{space_used_item} bytes\")"
      ],
      "metadata": {
        "colab": {
          "base_uri": "https://localhost:8080/"
        },
        "id": "kqP7vxAp44TQ",
        "outputId": "415f3c62-58b5-4d73-e3de-ddcdd2522117"
      },
      "execution_count": 11,
      "outputs": [
        {
          "output_type": "stream",
          "name": "stdout",
          "text": [
            "\n",
            "Execution Time for Cosine Similarity (Item-Based):\n",
            "0.0077893733978271484 seconds\n",
            "\n",
            "Space Used for Cosine Similarity (Item-Based):\n",
            "328 bytes\n"
          ]
        }
      ]
    }
  ]
}