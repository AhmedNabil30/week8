{
  "nbformat": 4,
  "nbformat_minor": 0,
  "metadata": {
    "colab": {
      "provenance": []
    },
    "kernelspec": {
      "name": "python3",
      "display_name": "Python 3"
    },
    "language_info": {
      "name": "python"
    }
  },
  "cells": [
    {
      "cell_type": "code",
      "execution_count": 2,
      "metadata": {
        "colab": {
          "base_uri": "https://localhost:8080/"
        },
        "id": "OfYcyO4F0WXP",
        "outputId": "4ff9b7a4-ffd8-4de2-b6e3-0715fa86923c"
      },
      "outputs": [
        {
          "output_type": "stream",
          "name": "stdout",
          "text": [
            "\n",
            "Modified User-Item Matrix:\n",
            "       ItemA  ItemB  ItemC\n",
            "user                      \n",
            "User1      3      4      0\n",
            "User2      0      3      2\n",
            "User3      5      0      3\n",
            "User4      4      1      4\n",
            "User5      2      5      0\n",
            "\n",
            "--- User Similarity Matrix ---\n",
            "user      User1     User2     User3     User4     User5\n",
            "user                                                   \n",
            "User1  1.000000  0.665640  0.514496  0.557048  0.965616\n",
            "User2  0.665640  1.000000  0.285391  0.531085  0.772539\n",
            "User3  0.514496  0.285391  1.000000  0.955330  0.318465\n",
            "User4  0.557048  0.531085  0.955330  1.000000  0.420230\n",
            "User5  0.965616  0.772539  0.318465  0.420230  1.000000\n",
            "\n",
            "--- Item Similarity Matrix ---\n",
            "          ItemA     ItemB     ItemC\n",
            "ItemA  1.000000  0.495440  0.783368\n",
            "ItemB  0.495440  1.000000  0.260025\n",
            "ItemC  0.783368  0.260025  1.000000\n",
            "\n",
            "Execution Time for User-based CF: 0.000681 seconds\n",
            "Execution Time for Item-based CF: 0.000750 seconds\n",
            "\n",
            "Complexity Analysis:\n",
            "User-based Time Complexity: O(N^2 * M) = O(5^2 * 3)\n",
            "User-based Space Complexity: O(N^2) = O(5^2)\n",
            "Item-based Time Complexity: O(M^2 * N) = O(3^2 * 5)\n",
            "Item-based Space Complexity: O(M^2) = O(3^2)\n"
          ]
        }
      ],
      "source": [
        "import pandas as pd\n",
        "import numpy as np\n",
        "from sklearn.metrics.pairwise import cosine_similarity\n",
        "import time\n",
        "\n",
        "# Create a new user-item DataFrame with different values\n",
        "data = {\n",
        "    'user': ['User1', 'User2', 'User3', 'User4', 'User5'],\n",
        "    'ItemA': [3, 0, 5, 4, 2],\n",
        "    'ItemB': [4, 3, 0, 1, 5],\n",
        "    'ItemC': [0, 2, 3, 4, 0],\n",
        "}\n",
        "grouped_df = pd.DataFrame(data).set_index('user')\n",
        "print(\"\\nModified User-Item Matrix:\")\n",
        "print(grouped_df)\n",
        "\n",
        "# User-based Collaborative Filtering Function\n",
        "def calculate_user_similarity(matrix):\n",
        "    similarity = cosine_similarity(matrix)\n",
        "    return pd.DataFrame(similarity, index=matrix.index, columns=matrix.index)\n",
        "\n",
        "# Item-based Collaborative Filtering Function\n",
        "def calculate_item_similarity(matrix):\n",
        "    similarity = cosine_similarity(matrix.T)\n",
        "    return pd.DataFrame(similarity, index=matrix.columns, columns=matrix.columns)\n",
        "\n",
        "# Function to measure execution time\n",
        "def compute_execution_time():\n",
        "    start = time.time()\n",
        "    user_sim = calculate_user_similarity(grouped_df)\n",
        "    user_time = time.time() - start\n",
        "\n",
        "    start = time.time()\n",
        "    item_sim = calculate_item_similarity(grouped_df)\n",
        "    item_time = time.time() - start\n",
        "\n",
        "    print(f\"\\nExecution Time for User-based CF: {user_time:.6f} seconds\")\n",
        "    print(f\"Execution Time for Item-based CF: {item_time:.6f} seconds\")\n",
        "\n",
        "# Complexity Analysis Function\n",
        "def analyze_complexity(matrix):\n",
        "    num_users, num_items = matrix.shape\n",
        "    print(\"\\nComplexity Analysis:\")\n",
        "    print(f\"User-based Time Complexity: O(N^2 * M) = O({num_users}^2 * {num_items})\")\n",
        "    print(f\"User-based Space Complexity: O(N^2) = O({num_users}^2)\")\n",
        "    print(f\"Item-based Time Complexity: O(M^2 * N) = O({num_items}^2 * {num_users})\")\n",
        "    print(f\"Item-based Space Complexity: O(M^2) = O({num_items}^2)\")\n",
        "\n",
        "# Display results\n",
        "if __name__ == \"__main__\":\n",
        "    print(\"\\n--- User Similarity Matrix ---\")\n",
        "    print(calculate_user_similarity(grouped_df))\n",
        "\n",
        "    print(\"\\n--- Item Similarity Matrix ---\")\n",
        "    print(calculate_item_similarity(grouped_df))\n",
        "\n",
        "    compute_execution_time()\n",
        "    analyze_complexity(grouped_df)\n"
      ]
    },
    {
      "cell_type": "code",
      "source": [],
      "metadata": {
        "id": "Ti1Bx-jH0joH"
      },
      "execution_count": null,
      "outputs": []
    }
  ]
}